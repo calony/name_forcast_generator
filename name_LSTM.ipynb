{
 "cells": [
  {
   "cell_type": "markdown",
   "metadata": {},
   "source": [
    "A character-level language model serves as an accessible entry point for grasping more complex sequence models like LSTM (Long Short-Term Memory).\n",
    "\n",
    "Illustrating this concept, I present a basic implementation of name generation using a Recurrent Neural Network (RNN). The dataset, sourced from Retraite Québec, consists of first names belonging to children eligible for family benefits. These names encompass both genders and encompass individuals born in Québec or those who've immigrated there starting from 1980.\n",
    "\n",
    "By delving into this RNN-driven approach, we can glean insights into how sequence models work. Such models find broad utility in diverse fields like natural language processing, genetics, and even music generation. The RNN's ability to capture patterns and dependencies in sequential data equips us to generate new, plausible names based on the underlying patterns in the dataset."
   ]
  },
  {
   "cell_type": "code",
   "execution_count": 1,
   "metadata": {},
   "outputs": [],
   "source": [
    "import pandas as pd\n",
    "import matplotlib.pyplot as plt\n",
    "import torch\n",
    "import torch.nn as nn\n",
    "import torch.nn.functional as F\n",
    "import torch.optim as optim\n",
    "from torch.utils.data import DataLoader, Dataset\n",
    "from sklearn.model_selection import train_test_split"
   ]
  },
  {
   "cell_type": "code",
   "execution_count": 2,
   "metadata": {},
   "outputs": [],
   "source": [
    "# first row is the column name\n",
    "df1 = pd.read_csv('gars1980-2022.csv', header=0)\n",
    "df2 = pd.read_csv('filles1980-2022.csv', header=0)"
   ]
  },
  {
   "cell_type": "code",
   "execution_count": 3,
   "metadata": {},
   "outputs": [],
   "source": [
    "# data cleaning\n",
    "data1 = df1.dropna()\n",
    "data2 = df2.dropna()\n",
    "data1[data1['Prenom_masculin'] == 'Somme:']\n",
    "data2[data2['Prenom_feminin'] == 'Somme:']\n",
    "data1 = data1.drop(index=210077)\n",
    "data2 = data2.drop(index=215648)"
   ]
  },
  {
   "cell_type": "code",
   "execution_count": 4,
   "metadata": {},
   "outputs": [],
   "source": [
    "# sort by frequency from high to low\n",
    "data_sorted1 = data1.sort_values(by='Total', ascending=False)\n",
    "data_sorted1.reset_index(inplace=True, drop=True)\n",
    "\n",
    "data_sorted2 = data2.sort_values(by='Total', ascending=False)\n",
    "data_sorted2.reset_index(inplace=True, drop=True)"
   ]
  },
  {
   "cell_type": "code",
   "execution_count": 5,
   "metadata": {},
   "outputs": [],
   "source": [
    "# choose the first 10000 names\n",
    "names1 = data_sorted1[:5000]\n",
    "names2 = data_sorted2[:5000]\n",
    "names1 = names1['Prenom_masculin'].str.lower().to_list()\n",
    "names2 = names2['Prenom_feminin'].str.lower().to_list()\n",
    "names = names1 + names2"
   ]
  },
  {
   "cell_type": "markdown",
   "metadata": {},
   "source": [
    "Design and train a trigram language model, i.e. take two characters as an input to predict the 3rd one. "
   ]
  },
  {
   "cell_type": "code",
   "execution_count": 6,
   "metadata": {},
   "outputs": [
    {
     "name": "stdout",
     "output_type": "stream",
     "text": [
      "vocab_size: 29\n"
     ]
    }
   ],
   "source": [
    "# lookup table to match characters to integers\n",
    "chars = sorted(list(set(\"\".join(names))))\n",
    "chr_to_idx = {c:i for i,c in enumerate(chars)}\n",
    "chr_to_idx['<E>'] = 28\n",
    "vocab_size = len(chr_to_idx)\n",
    "print(f\"vocab_size: {vocab_size}\")\n",
    "\n",
    "idx_to_chr = {i:c for i,c in enumerate(chars)}\n",
    "idx_to_chr [28] = '<E>'"
   ]
  },
  {
   "cell_type": "code",
   "execution_count": 7,
   "metadata": {},
   "outputs": [],
   "source": [
    "# generate dataset, input two characters, output one character\n",
    "x, y = [], []\n",
    "\n",
    "for name in names:\n",
    "    unit = list(name) + ['<E>']\n",
    "    for ch1, ch2, ch3 in zip(unit, unit[1:], unit[2:]):\n",
    "        ix1 = chr_to_idx[ch1]\n",
    "        ix2 = chr_to_idx[ch2]\n",
    "        ix3 = chr_to_idx[ch3]\n",
    "        x.append([ix1, ix2])\n",
    "        y.append(ix3)  "
   ]
  },
  {
   "cell_type": "code",
   "execution_count": 8,
   "metadata": {},
   "outputs": [],
   "source": [
    "# train test split\n",
    "X_train, X_test, y_train, y_test = train_test_split(x, y, test_size=0.2, random_state=42)\n",
    "\n",
    "# prepare data for pytorch and generate dataloader\n",
    "class MyDataset(Dataset):\n",
    "    def __init__(self, x_data, y_data):\n",
    "        self.x_data = torch.tensor(x_data, dtype=torch.long)\n",
    "        self.y_data = torch.tensor(y_data, dtype=torch.long)\n",
    "\n",
    "    def __len__(self):\n",
    "        return len(self.x_data)\n",
    "\n",
    "    def __getitem__(self, idx):\n",
    "        x = self.x_data[idx]\n",
    "        y = self.y_data[idx]\n",
    "        return x, y\n",
    "\n",
    "train_dataset = MyDataset(X_train, y_train)\n",
    "test_dataset = MyDataset(X_test, y_test)\n",
    "\n",
    "batch_size = 64\n",
    "train_ds = DataLoader(dataset=train_dataset, batch_size=batch_size, shuffle=True)\n",
    "test_ds = DataLoader(dataset=test_dataset, batch_size=batch_size, shuffle=False)"
   ]
  },
  {
   "cell_type": "code",
   "execution_count": 11,
   "metadata": {},
   "outputs": [],
   "source": [
    "# define a funciton for generating 5 names\n",
    "\n",
    "def generate_names(model, seed='al', temperature=1):\n",
    "    seed = list(seed)\n",
    "    idx1 = chr_to_idx[seed[0]]\n",
    "    idx2 = chr_to_idx[seed[1]]\n",
    "    seed = torch.tensor([idx1, idx2], dtype=torch.long)\n",
    "    seed = seed.unsqueeze(0)\n",
    "\n",
    "    model.eval()\n",
    "    names = []\n",
    "    for i in range(5):\n",
    "        output = ['<S>']\n",
    "        while output[-1] != '<E>':\n",
    "            logits = model(seed)\n",
    "            scaled_logits = logits / temperature\n",
    "            prob = F.softmax(scaled_logits.data, dim=1)\n",
    "            predicted = torch.multinomial(prob, 1).squeeze(1)\n",
    "            chr_predicted = idx_to_chr[predicted.item()]\n",
    "            output.append(chr_predicted)\n",
    "            seed = torch.cat((seed[:, -1], predicted)).unsqueeze(0)\n",
    "        final_output = [idx_to_chr[idx1], idx_to_chr[idx2]] + output[1:-1]\n",
    "        names.append(''.join(final_output))\n",
    "    print('\\n'.join(names))"
   ]
  },
  {
   "cell_type": "code",
   "execution_count": 12,
   "metadata": {},
   "outputs": [
    {
     "name": "stdout",
     "output_type": "stream",
     "text": [
      "torch.Size([64, 2]) torch.Size([64])\n",
      "torch.Size([64, 2, 3])\n",
      "torch.Size([64, 2, 5])\n",
      "torch.Size([64, 5])\n"
     ]
    }
   ],
   "source": [
    "# understanding LSTM input and output shapes\n",
    "\n",
    "for input, label in train_ds: # get the first batch\n",
    "    break\n",
    "print(input.shape, label.shape)\n",
    "a = nn.Embedding(vocab_size, 3)(input) # 3 is the embedding dimension\n",
    "print(a.shape) # (batch_size, seq_len, input_size/embedding dimension)\n",
    "b, _ = nn.LSTM(input_size=3, hidden_size=5, batch_first=True)(a) # input_size = embedding dimension\n",
    "print(b.shape) # (batch_size, seq_len, hidden_size)\n",
    "print(b[:, -1, :].shape) # -1 means using only the last time step of each seq for prediction"
   ]
  },
  {
   "cell_type": "code",
   "execution_count": 13,
   "metadata": {},
   "outputs": [
    {
     "name": "stdout",
     "output_type": "stream",
     "text": [
      "total model parameters: 143261\n",
      "total training examples: 46616\n",
      "total test examples: 11654\n"
     ]
    }
   ],
   "source": [
    "# LSTM model\n",
    "class Model(nn.Module):\n",
    "    def __init__(self, num_embeddings=vocab_size, embedding_dim=128, hidden_size=128, out_features=vocab_size):\n",
    "        super(Model, self).__init__()\n",
    "        self.embedding = nn.Embedding(num_embeddings, embedding_dim) \n",
    "        self.lstm = nn.LSTM(embedding_dim, hidden_size, batch_first=True) \n",
    "        self.out = nn.Linear(hidden_size * 2, out_features)\n",
    "\n",
    "    def forward(self,x):\n",
    "        x = self.embedding(x)\n",
    "        x, _= self.lstm(x) # output x of lstm is a tensor of shape (batch_size, seq_len, hidden_size)\n",
    "        x = torch.cat((x[:, 0, :], x[:, 1, :]), dim=1)  # Concatenate the hidden states of both time steps, shape (batch_size, hidden_size * 2)\n",
    "        x = self.out(x)\n",
    "        return x\n",
    "\n",
    "torch.manual_seed(42)\n",
    "model = Model()\n",
    "print(f\"total model parameters: {sum(p.numel() for p in model.parameters())}\")\n",
    "print(f\"total training examples: {len(X_train)}\")\n",
    "print(f\"total test examples: {len(X_test)}\")"
   ]
  },
  {
   "cell_type": "code",
   "execution_count": 14,
   "metadata": {},
   "outputs": [
    {
     "name": "stdout",
     "output_type": "stream",
     "text": [
      "aloymrpm wgrhvdygpmane c\n",
      "almmehkzwiombeiizyzirfcapbxdlakaxvcniqw\n",
      "allfwm-alyiccvl-m--lw xuwgri\n",
      "alxav-dsjkjkxsma whtaptuoqyofjen\n",
      "alhgr-whhuovpmvtr-kolpfyx zi pyxecaextm\n"
     ]
    }
   ],
   "source": [
    "# names generated without training\n",
    "generate_names(model, seed='al')"
   ]
  },
  {
   "cell_type": "code",
   "execution_count": 15,
   "metadata": {},
   "outputs": [
    {
     "name": "stdout",
     "output_type": "stream",
     "text": [
      "last training loss 1.5800\n",
      "last test loss: 1.5546\n"
     ]
    }
   ],
   "source": [
    "# training\n",
    "epochs = 50\n",
    "learning_rate = 0.1\n",
    "\n",
    "device = torch.device('cuda' if torch.cuda.is_available() else 'cpu')\n",
    "\n",
    "model.to(device)\n",
    "torch.cuda.empty_cache()\n",
    "\n",
    "criterion = nn.CrossEntropyLoss()\n",
    "optimizer = optim.SGD(model.parameters(), lr=learning_rate, momentum=0.9)\n",
    "\n",
    "train_losses = []\n",
    "test_losses = []\n",
    "\n",
    "for epoch in range(epochs):\n",
    "    # training loop\n",
    "    model.train()\n",
    "    \n",
    "    for X_train, y_train in train_ds: # iternate through all batches of training data\n",
    "        X_train = X_train.to(device)\n",
    "        y_train = y_train.to(device)\n",
    "        \n",
    "        # Forward pass\n",
    "        y_pred = model(X_train)\n",
    "        train_loss = criterion(y_pred, y_train)\n",
    "       \n",
    "        # Back propagation and update\n",
    "        optimizer.zero_grad()\n",
    "        train_loss.backward()\n",
    "        optimizer.step()\n",
    "    \n",
    "    train_losses.append(train_loss.item()) # add training loss during the last batch for each epoch\n",
    "\n",
    "    # test loop\n",
    "    model.eval()\n",
    "\n",
    "    total = 0\n",
    "    correct = 0\n",
    "    with torch.no_grad():\n",
    "        for X_test, y_test in test_ds: # iterate over all batches of test data\n",
    "            X_test = X_test.to(device)\n",
    "            y_test = y_test.to(device)\n",
    "            \n",
    "            y_pred = model(X_test)\n",
    "            _, predicted = torch.max(y_pred.data, 1)\n",
    "            total += y_test.size(0)\n",
    "            correct += (predicted == y_test).sum().item()\n",
    "        \n",
    "    test_loss = criterion(y_pred, y_test)\n",
    "    test_losses.append(test_loss.item()) # add test loss during the last batch for each epoch\n",
    "        \n",
    "print(f\"last training loss {train_loss.item():.4f}\")\n",
    "print(f\"last test loss: {test_loss.item():.4f}\")"
   ]
  },
  {
   "cell_type": "code",
   "execution_count": 16,
   "metadata": {},
   "outputs": [
    {
     "data": {
      "image/png": "[encoded data removed]",
      "text/plain": [
       "<Figure size 640x480 with 1 Axes>"
      ]
     },
     "metadata": {},
     "output_type": "display_data"
    }
   ],
   "source": [
    "# plot training and test loss\n",
    "plt.plot(train_losses, label='Training loss')\n",
    "plt.plot(test_losses, label='Test loss')\n",
    "plt.legend(frameon=False)\n",
    "plt.ylim(0, 4);"
   ]
  },
  {
   "cell_type": "code",
   "execution_count": 17,
   "metadata": {},
   "outputs": [
    {
     "name": "stdout",
     "output_type": "stream",
     "text": [
      "test eval: 3973/11654 accuracy: 34.09%\n",
      "\n"
     ]
    }
   ],
   "source": [
    "# test eval\n",
    "total = 0\n",
    "correct = 0\n",
    "with torch.no_grad():\n",
    "    for X_test, y_test in test_ds: # iterate over all batches of test data\n",
    "        X_test = X_test.to(device)\n",
    "        y_test = y_test.to(device)\n",
    "        \n",
    "        y_pred = model(X_test)\n",
    "        _, predicted = torch.max(y_pred.data, 1)\n",
    "        total += y_test.size(0)\n",
    "        correct += (predicted == y_test).sum().item()\n",
    "\n",
    "print(f\"test eval: {correct}/{total} accuracy: {correct/total*100:.2f}%\\n\")"
   ]
  },
  {
   "cell_type": "code",
   "execution_count": 20,
   "metadata": {},
   "outputs": [
    {
     "name": "stdout",
     "output_type": "stream",
     "text": [
      "alei\n",
      "ale\n",
      "al\n",
      "alannie-chaia\n",
      "almin\n"
     ]
    }
   ],
   "source": [
    "# names generated after training\n",
    "generate_names(model, seed='al')"
   ]
  },
  {
   "cell_type": "code",
   "execution_count": 21,
   "metadata": {},
   "outputs": [],
   "source": [
    "torch.save(model.state_dict(), 'name_model_lstm.pt')"
   ]
  }
 ],
 "metadata": {
  "kernelspec": {
   "display_name": "base",
   "language": "python",
   "name": "python3"
  },
  "language_info": {
   "codemirror_mode": {
    "name": "ipython",
    "version": 3
   },
   "file_extension": ".py",
   "mimetype": "text/x-python",
   "name": "python",
   "nbconvert_exporter": "python",
   "pygments_lexer": "ipython3",
   "version": "3.10.9"
  },
  "orig_nbformat": 4
 },
 "nbformat": 4,
 "nbformat_minor": 2
}
